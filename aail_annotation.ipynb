{
 "cells": [
  {
   "cell_type": "code",
   "execution_count": 1,
   "id": "f2605c0b",
   "metadata": {},
   "outputs": [],
   "source": [
    "DIR_JSON = \"C:/Users/janpreet/working_directory/projects/Ar2il/model_mine/aail_annotation/annotator2/images/schema.json\""
   ]
  },
  {
   "cell_type": "code",
   "execution_count": 2,
   "id": "3810a9f7",
   "metadata": {},
   "outputs": [],
   "source": [
    "import json\n",
    "import re"
   ]
  },
  {
   "cell_type": "code",
   "execution_count": 89,
   "id": "6679604e",
   "metadata": {},
   "outputs": [],
   "source": [
    "with open(DIR_JSON, \"r\") as f:\n",
    "    data = json.load(f)"
   ]
  },
  {
   "cell_type": "code",
   "execution_count": 91,
   "id": "fb4eaff3",
   "metadata": {},
   "outputs": [],
   "source": [
    "def sort_key(k):\n",
    "    return k[\"name\"].lower()"
   ]
  },
  {
   "cell_type": "code",
   "execution_count": 92,
   "id": "58e2c34b",
   "metadata": {},
   "outputs": [],
   "source": [
    "data[\"label_class_groups\"][0][\"group_classes\"] = sorted(data[\"label_class_groups\"][0][\"group_classes\"], key=sort_key)"
   ]
  },
  {
   "cell_type": "code",
   "execution_count": 93,
   "id": "8653cc6c",
   "metadata": {},
   "outputs": [],
   "source": [
    "labels_to_remove = [\"Room\", \"atrium\", \"ballroom\", \"MeetingRoom\", \"ConferenceRoom\", \"Church\", \"Sanctuary\", \"Counter\",\n",
    "                   \"ServiceRoom\", \"ServingArea\", \"Technical Room\", \"Reception\", \"Retail Room\", \n",
    "                   \"Below150cm\", \"Elevated\", \"Outdoor\", \"Skylights\", \"Ramp\"]"
   ]
  },
  {
   "cell_type": "code",
   "execution_count": 94,
   "id": "ee8e4998",
   "metadata": {},
   "outputs": [],
   "source": [
    "filtered_labels = [f for f in data[\"label_class_groups\"][0][\"group_classes\"] if f[\"name\"] not in labels_to_remove]"
   ]
  },
  {
   "cell_type": "code",
   "execution_count": 95,
   "id": "147fa3a3",
   "metadata": {},
   "outputs": [],
   "source": [
    "more_labels_to_remove = [\"door\", \"balcony\", \"terrace\", \"loggia\", \n",
    "                 \"LivingRoom\", \"Den\", \"diningroom\", \"EatingArea\", \"Guestroom\", \"Master_Bedroom\", \"Wardrobe\",\n",
    "                \"Closet\", \"Storage\", \"Pantry\", \"HallWay\", \"corridor\", \"Home_Office\", \"Office\", \"Study\",\n",
    "                \"bar\", \"Library\", \"UserDefined\", \"alcove\", \"attic\", \"ExerciseRoom\", \"Loft\", \"MediaRoom\",\n",
    "                \"Museum\", \"Nook\", \"RecreationRoom\", \"Stage\", \"Theatre\", \"Carport\", \"Garage\", \"Conservatory\",\n",
    "                \"SunRoom\", \"greenhouse\", \"winter_garden\", \"Vestibule\", \"DraughtLobby\", \"CarPort\"]"
   ]
  },
  {
   "cell_type": "code",
   "execution_count": 96,
   "id": "54be6884",
   "metadata": {},
   "outputs": [],
   "source": [
    "further_filtered_labels = [f for f in filtered_labels if f[\"name\"] not in more_labels_to_remove]"
   ]
  },
  {
   "cell_type": "code",
   "execution_count": 97,
   "id": "2819b8a9",
   "metadata": {},
   "outputs": [],
   "source": [
    "labels_to_add = [\"French_Window\", \"Door(exterior)\", \"Door(interior)\", \"Balcony/Terrace/Loggia\", \"Living_Room/Den\",\n",
    "                 \"Wardrobe/Closet\",\"Storage/Pantry\", \"Hallway/Corridor\", \"Study/Home_Office/Office\",\n",
    "                \"UserDefined/Entertainment/Recreation_Room\", \"Carport/Garage\", \"Vestibule/Draught_Lobby\", \n",
    "                 \"Conservatory/SunRoom/greenhouse/Winter_Garden\"]"
   ]
  },
  {
   "cell_type": "code",
   "execution_count": 98,
   "id": "dee502fe",
   "metadata": {},
   "outputs": [],
   "source": [
    "labels_added = []"
   ]
  },
  {
   "cell_type": "code",
   "execution_count": 99,
   "id": "02b88d51",
   "metadata": {},
   "outputs": [],
   "source": [
    "for i, nm in enumerate(labels_to_add):\n",
    "    dict_to_append = {'colours': {'default': [128, 128, 128]},\n",
    "                      'human_name': nm,\n",
    "                      'id': str(i),\n",
    "                      'name': nm}\n",
    "    labels_added.append(dict_to_append)"
   ]
  },
  {
   "cell_type": "code",
   "execution_count": 100,
   "id": "c7f2ad7f",
   "metadata": {},
   "outputs": [],
   "source": [
    "final_labels = further_filtered_labels + labels_added"
   ]
  },
  {
   "cell_type": "code",
   "execution_count": 101,
   "id": "c0561730",
   "metadata": {},
   "outputs": [],
   "source": [
    "common_labels = [\"Door(exterior)\", \"Door(interior)\", \"opening\",\"Wall\", \"window\", \"Balcony/Terrace/Loggia\", \"Bath\",\n",
    "                \"Bedroom\", \"Wardrobe/Closet\", \"Hallway/Corridor\", \"Dining\", \"Entrance\", \"Entry\", \"Kitchen\", \"Laundry\",\n",
    "                'Living_Room/Den', \"Storage/Pantry\", \"Shaft\", \"toilet\",\"Undefined\", \"Utility\"]"
   ]
  },
  {
   "cell_type": "code",
   "execution_count": 102,
   "id": "ae4b35b1",
   "metadata": {},
   "outputs": [],
   "source": [
    "special_labels = [\"French_Window\", \"Carport/Garage\", \"Conservatory/SunRoom/greenhouse/Winter_Garden\", \"Dressing_Room\",\n",
    "                  \"Vestibule/Draught_Lobby\", \"Elevator\", \"UserDefined/Entertainment/Recreation_Room\", \"fireplace\",\n",
    "                 \"Garbage\", \"Study/Home_Office/Office\",\"OpenToBelow\", \"Sauna\", \"Stable\", \"Stairs\", \"SwimmingPool\", \"Walk_In_Closet\"]"
   ]
  },
  {
   "cell_type": "code",
   "execution_count": 103,
   "id": "7256fd28",
   "metadata": {},
   "outputs": [],
   "source": [
    "others = ['DressingRoom', 'Hall','HotTub', 'Laundryroom', 'Lounge', 'Railing', 'RetailSpace',\n",
    "          'StairWell', 'TechnicalRoom', 'basement', 'ramp']"
   ]
  },
  {
   "cell_type": "code",
   "execution_count": null,
   "id": "a0753a1b",
   "metadata": {},
   "outputs": [],
   "source": []
  },
  {
   "cell_type": "code",
   "execution_count": 104,
   "id": "cee709eb",
   "metadata": {},
   "outputs": [],
   "source": [
    "data[\"label_class_groups\"][0]['group_name'] = \"Common\"\n",
    "data[\"label_class_groups\"][1]['group_name'] = \"Special\""
   ]
  },
  {
   "cell_type": "code",
   "execution_count": 105,
   "id": "8a31e3f2",
   "metadata": {},
   "outputs": [],
   "source": [
    "data[\"label_class_groups\"].append({'id': 'c32c08c2-32bd-42f0-q7e3-1ece3b8abfa7',\n",
    " 'group_name': 'Others',\n",
    " 'group_classes': []})"
   ]
  },
  {
   "cell_type": "code",
   "execution_count": 106,
   "id": "84e273b1",
   "metadata": {},
   "outputs": [],
   "source": [
    "common_l_anno = [f for f in final_labels if f[\"name\"] in  common_labels]"
   ]
  },
  {
   "cell_type": "code",
   "execution_count": 107,
   "id": "78b678fe",
   "metadata": {},
   "outputs": [],
   "source": [
    "special_l_anno = [f for f in final_labels if f[\"name\"] in  special_labels]"
   ]
  },
  {
   "cell_type": "code",
   "execution_count": 108,
   "id": "ba056d37",
   "metadata": {},
   "outputs": [],
   "source": [
    "others_l_anno = [f for f in final_labels if f[\"name\"] in  others]"
   ]
  },
  {
   "cell_type": "code",
   "execution_count": 109,
   "id": "44e35523",
   "metadata": {},
   "outputs": [],
   "source": [
    "data[\"label_class_groups\"][0][\"group_classes\"] = common_l_anno\n",
    "data[\"label_class_groups\"][1][\"group_classes\"] = special_l_anno\n",
    "data[\"label_class_groups\"][2][\"group_classes\"] = others_l_anno"
   ]
  },
  {
   "cell_type": "code",
   "execution_count": 113,
   "id": "62aebb5c",
   "metadata": {},
   "outputs": [],
   "source": [
    "data[\"label_class_groups\"][0][\"group_classes\"] = sorted(data[\"label_class_groups\"][0][\"group_classes\"], key=sort_key)\n",
    "data[\"label_class_groups\"][1][\"group_classes\"] = sorted(data[\"label_class_groups\"][1][\"group_classes\"], key=sort_key)\n",
    "data[\"label_class_groups\"][2][\"group_classes\"] = sorted(data[\"label_class_groups\"][2][\"group_classes\"], key=sort_key)"
   ]
  },
  {
   "cell_type": "code",
   "execution_count": 114,
   "id": "7cb2321e",
   "metadata": {},
   "outputs": [],
   "source": [
    "with open(DIR_JSON, \"w\") as f:\n",
    "    json.dump( data, f)"
   ]
  },
  {
   "cell_type": "code",
   "execution_count": null,
   "id": "ed76499a",
   "metadata": {},
   "outputs": [],
   "source": []
  }
 ],
 "metadata": {
  "kernelspec": {
   "display_name": "annotation",
   "language": "python",
   "name": "annotation"
  },
  "language_info": {
   "codemirror_mode": {
    "name": "ipython",
    "version": 3
   },
   "file_extension": ".py",
   "mimetype": "text/x-python",
   "name": "python",
   "nbconvert_exporter": "python",
   "pygments_lexer": "ipython3",
   "version": "3.7.10"
  }
 },
 "nbformat": 4,
 "nbformat_minor": 5
}
